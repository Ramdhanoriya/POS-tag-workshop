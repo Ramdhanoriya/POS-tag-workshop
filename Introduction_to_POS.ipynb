{
 "cells": [
  {
   "cell_type": "markdown",
   "metadata": {},
   "source": [
    "<h1 align=\"center\"> All about Parts of Speech (POS) tags</h1>\n",
    "\n",
    "<h3 align=\"center\"> Understanding of POS tags and build a POS tagger from scratch </h3>"
   ]
  },
  {
   "cell_type": "markdown",
   "metadata": {},
   "source": [
    "<img src=\"https://raw.githubusercontent.com/jalajthanaki/POS-tag-workshop/master/imgs/Image_1_1.gif\" \n",
    "align=\"middle\" alt=\"Image_1_1\" data-canonical-src=\"\" style=\"width:70%;height:70%\">"
   ]
  },
  {
   "cell_type": "markdown",
   "metadata": {},
   "source": [
    "<h2 align=\"center\"> There are main three sections of this workshop </h2>"
   ]
  },
  {
   "cell_type": "markdown",
   "metadata": {},
   "source": [
    " ```\n",
    " \n",
    "    Section 1. Introduction to Parts of Speech\n",
    "      \n",
    "       \n",
    "    Section 2. Generate Parts of Speech tags using various python libraries\n",
    "       \n",
    "    \n",
    "    Section 3. Build our own POS tagger form scratch\n",
    "       \n",
    " \n",
    " ```"
   ]
  },
  {
   "cell_type": "markdown",
   "metadata": {},
   "source": [
    "<h1 align=\"center\"> Introduction to Parts of Speech </h1>\n",
    "\n",
    "```\n",
    "1.1 What is Parts of Speech?\n",
    "               \n",
    "1.2 What is Parts of Speech tagging?\n",
    "               \n",
    "1.3 What is Part of Speech tagger?\n",
    "               \n",
    "1.4 What are the various types of the Part of Speech tags?\n",
    "               \n",
    "1.5 Which applications are using POS tagging?\n",
    "\n",
    "```"
   ]
  },
  {
   "cell_type": "markdown",
   "metadata": {},
   "source": [
    "**What is Parts of Speech?**"
   ]
  },
  {
   "cell_type": "markdown",
   "metadata": {},
   "source": [
    "**Parts of Speech (POS):** POS helps us to get an idea how a particular word or a phrase used in a given sentence in order to convey the logical meaning of the sentence."
   ]
  },
  {
   "cell_type": "markdown",
   "metadata": {},
   "source": [
    "<img src=\"https://raw.githubusercontent.com/jalajthanaki/POS-tag-workshop/master/imgs/Image_1_2.jpg\" \n",
    "align=\"middle\" alt=\"Image_1_2\" data-canonical-src=\"\" style=\"width:60%;height:60%\">"
   ]
  },
  {
   "cell_type": "markdown",
   "metadata": {},
   "source": [
    "```\n",
    "\n",
    "```"
   ]
  },
  {
   "cell_type": "markdown",
   "metadata": {},
   "source": [
    "**What is Part of Speech tagging?**"
   ]
  },
  {
   "cell_type": "markdown",
   "metadata": {},
   "source": [
    "**Part of Speech tagging (POS tagging):** POS tagging is defined as the process of marking words in the corpus corresponding to their particular Parts of Speech. \n",
    "\n",
    "\n",
    "* The POS tags of the word is dependent on both its definition and its context. \n",
    "\n",
    "\n",
    "\n",
    "* It is also called grammatical tagging or word-category disambiguation.\n",
    "\n",
    "\n",
    "\n",
    "* POS tags of the words are dependent on their relationship with adjacent and related words in the given phrase, sentence and paragraph\n",
    "\n"
   ]
  },
  {
   "cell_type": "markdown",
   "metadata": {},
   "source": [
    "**Example**\n",
    "\n",
    "Sentence: **John likes the blue house at the end of the street.**\n",
    "\n",
    "\n",
    "| Words  | POS tag   | \n",
    "|---|---|\n",
    "| John  | Noun |\n",
    "| likes | Verb  | \n",
    "| the  |  Determiner |\n",
    "| blue |  Adjective | \n",
    "| house  | Noun |\n",
    "| at | Preposition  | \n",
    "| the| Determiner  |\n",
    "| end | Noun  | \n",
    "| of  | Preposition  |\n",
    "| the |  Determiner | \n",
    "| street |  Noun |\n",
    "| .      |  . |\n"
   ]
  },
  {
   "cell_type": "markdown",
   "metadata": {},
   "source": [
    "```\n",
    "\n",
    "```"
   ]
  },
  {
   "cell_type": "markdown",
   "metadata": {},
   "source": [
    "**What is Part of Speech tagger?**"
   ]
  },
  {
   "cell_type": "markdown",
   "metadata": {},
   "source": [
    "**Part of Speech tagger (POS tagger):** POS tagger is the tool that is used to assign POS tags for the given sentence or dataset/corpus"
   ]
  },
  {
   "cell_type": "markdown",
   "metadata": {},
   "source": [
    "```\n",
    "\n",
    "```"
   ]
  },
  {
   "cell_type": "markdown",
   "metadata": {},
   "source": [
    "**What are the various types of the Part of Speech tags?**   "
   ]
  },
  {
   "cell_type": "markdown",
   "metadata": {},
   "source": [
    "<img src=\"https://raw.githubusercontent.com/jalajthanaki/POS-tag-workshop/master/imgs/Image_1_3.png\" \n",
    "align=\"middle\" alt=\"Image_1_3\" data-canonical-src=\"\" style=\"width:60%;height:60%\">"
   ]
  },
  {
   "cell_type": "markdown",
   "metadata": {},
   "source": [
    "<img src=\"https://raw.githubusercontent.com/jalajthanaki/POS-tag-workshop/master/imgs/Image_1_4.png\" \n",
    "align=\"middle\" alt=\"Image_1_4\" data-canonical-src=\"\" style=\"width:40%;height:40%\">"
   ]
  },
  {
   "cell_type": "markdown",
   "metadata": {},
   "source": [
    "<h4 align=\"center\"> You can see the list of tags from [here](https://github.com/jalajthanaki/NLPython/blob/master/ch5/POStagdemo/POS_tags.txt)</h4>"
   ]
  },
  {
   "cell_type": "markdown",
   "metadata": {},
   "source": [
    "```\n",
    "\n",
    "```"
   ]
  },
  {
   "cell_type": "markdown",
   "metadata": {},
   "source": [
    "**Which applications are using POS tagging? **"
   ]
  },
  {
   "cell_type": "markdown",
   "metadata": {},
   "source": [
    "* Multi word Expression\n",
    "\n",
    "    \n",
    "* Grammar correction system\n",
    "\n",
    "    \n",
    "* Question-Answering system\n",
    "\n",
    "    \n",
    "* Machine Translation\n",
    "\n",
    "    \n",
    "* Sentiment Analysis\n",
    "\n"
   ]
  }
 ],
 "metadata": {
  "kernelspec": {
   "display_name": "Python 3",
   "language": "python",
   "name": "python3"
  },
  "language_info": {
   "codemirror_mode": {
    "name": "ipython",
    "version": 3
   },
   "file_extension": ".py",
   "mimetype": "text/x-python",
   "name": "python",
   "nbconvert_exporter": "python",
   "pygments_lexer": "ipython3",
   "version": "3.5.2"
  }
 },
 "nbformat": 4,
 "nbformat_minor": 2
}
